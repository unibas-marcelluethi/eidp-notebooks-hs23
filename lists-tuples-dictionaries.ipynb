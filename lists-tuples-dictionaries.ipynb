{
 "cells": [
  {
   "cell_type": "markdown",
   "id": "360e0bba",
   "metadata": {},
   "source": [
    "# Repetition: Zusammengesetzte Datentypen"
   ]
  },
  {
   "cell_type": "markdown",
   "id": "baec4206",
   "metadata": {},
   "source": [
    "### Übersicht\n",
    "\n",
    "#### Listen, Tupel und Dictionaries\n",
    "\n",
    "| Typ | Verwaltet | Veränderbarkeit | Indizierung | \n",
    "| ----|-----------|-----------------|-------------|\n",
    "| Tupel| Fixe Anzahl Werte | Unveränderlich | Indiziert durch Zahl|\n",
    "| Liste | Variable Anzahl Werte | Veränderlich |Indiziert durch Zahl |\n",
    "| Dictionary | Variable Anzahl Werte | Veränderlich | Indiziert durch beliebigen Wert |\n",
    "\n",
    "\n",
    "#### Klassen \n",
    "\n",
    "Flexibler, eigener Datentyp mit eigenen Operationen. Jede der obigen Typen kann mittels Klassen implementiert werden. "
   ]
  },
  {
   "cell_type": "markdown",
   "id": "521425b1",
   "metadata": {},
   "source": [
    "### Objekte erstellen"
   ]
  },
  {
   "cell_type": "markdown",
   "id": "e31723e8",
   "metadata": {},
   "source": [
    "Tupel:"
   ]
  },
  {
   "cell_type": "code",
   "execution_count": 3,
   "id": "145f0046",
   "metadata": {},
   "outputs": [],
   "source": [
    "t = (\"first\", \"second\", \"third\")\n"
   ]
  },
  {
   "cell_type": "markdown",
   "id": "c5bf5ef9",
   "metadata": {},
   "source": [
    "Liste:"
   ]
  },
  {
   "cell_type": "code",
   "execution_count": 6,
   "id": "53955940",
   "metadata": {},
   "outputs": [],
   "source": [
    "l = [\"first\", \"second\", \"third\"]\n"
   ]
  },
  {
   "cell_type": "markdown",
   "id": "c233755b",
   "metadata": {},
   "source": [
    "Dictionary:"
   ]
  },
  {
   "cell_type": "code",
   "execution_count": 18,
   "id": "dd89ebe8",
   "metadata": {},
   "outputs": [],
   "source": [
    "d = {\"key1\" : \"aValue\", \"key2\" : \"asecondValue\", \"key3\" : \"aThirdValue\"}"
   ]
  },
  {
   "cell_type": "markdown",
   "id": "132a4fbc",
   "metadata": {},
   "source": [
    "### Elemente ansprechen"
   ]
  },
  {
   "cell_type": "code",
   "execution_count": 9,
   "id": "61b6790c",
   "metadata": {},
   "outputs": [
    {
     "name": "stdout",
     "output_type": "stream",
     "text": [
      "first second third\n"
     ]
    }
   ],
   "source": [
    "print(t[0], t[1], t[2])"
   ]
  },
  {
   "cell_type": "code",
   "execution_count": 10,
   "id": "e02b16a5",
   "metadata": {},
   "outputs": [
    {
     "name": "stdout",
     "output_type": "stream",
     "text": [
      "first second third\n"
     ]
    }
   ],
   "source": [
    "print(l[0], l[1], l[2])"
   ]
  },
  {
   "cell_type": "code",
   "execution_count": 17,
   "id": "7bc10a5d",
   "metadata": {},
   "outputs": [
    {
     "name": "stdout",
     "output_type": "stream",
     "text": [
      "anotherValue anotherValue aThirdValue\n"
     ]
    }
   ],
   "source": [
    "print(d[\"key1\"], d[\"key2\"], d[\"key3\"])"
   ]
  },
  {
   "cell_type": "markdown",
   "id": "72f54517",
   "metadata": {},
   "source": [
    "### Elemente verändern"
   ]
  },
  {
   "cell_type": "markdown",
   "id": "f19d9dfe",
   "metadata": {},
   "source": [
    "Tupel (nicht möglich):"
   ]
  },
  {
   "cell_type": "code",
   "execution_count": 14,
   "id": "bff99bf1",
   "metadata": {},
   "outputs": [
    {
     "ename": "TypeError",
     "evalue": "'tuple' object does not support item assignment",
     "output_type": "error",
     "traceback": [
      "\u001b[1;31m---------------------------------------------------------------------------\u001b[0m",
      "\u001b[1;31mTypeError\u001b[0m                                 Traceback (most recent call last)",
      "\u001b[1;32m~\\AppData\\Local\\Temp/ipykernel_2076/225944561.py\u001b[0m in \u001b[0;36m<module>\u001b[1;34m\u001b[0m\n\u001b[0;32m      1\u001b[0m \u001b[1;31m# Elemente von Tupeln sind unveränderlich\u001b[0m\u001b[1;33m\u001b[0m\u001b[1;33m\u001b[0m\u001b[0m\n\u001b[1;32m----> 2\u001b[1;33m \u001b[0mt\u001b[0m\u001b[1;33m[\u001b[0m\u001b[1;36m0\u001b[0m\u001b[1;33m]\u001b[0m \u001b[1;33m=\u001b[0m \u001b[1;34m\"anotherValue\"\u001b[0m\u001b[1;33m\u001b[0m\u001b[1;33m\u001b[0m\u001b[0m\n\u001b[0m\u001b[0;32m      3\u001b[0m \u001b[0mprint\u001b[0m\u001b[1;33m(\u001b[0m\u001b[0mt\u001b[0m\u001b[1;33m)\u001b[0m\u001b[1;33m\u001b[0m\u001b[1;33m\u001b[0m\u001b[0m\n",
      "\u001b[1;31mTypeError\u001b[0m: 'tuple' object does not support item assignment"
     ]
    }
   ],
   "source": [
    "# Elemente von Tupeln sind unveränderlich\n",
    "t[0] = \"anotherValue\"\n",
    "print(t)"
   ]
  },
  {
   "cell_type": "markdown",
   "id": "e1907fa5",
   "metadata": {},
   "source": [
    "Listen:"
   ]
  },
  {
   "cell_type": "code",
   "execution_count": 15,
   "id": "91e17686",
   "metadata": {},
   "outputs": [
    {
     "name": "stdout",
     "output_type": "stream",
     "text": [
      "['1st', 'second', 'third']\n"
     ]
    }
   ],
   "source": [
    "l[0] = \"1st\"\n",
    "print(l)"
   ]
  },
  {
   "cell_type": "markdown",
   "id": "4c00318c",
   "metadata": {},
   "source": [
    "Dictionaries:"
   ]
  },
  {
   "cell_type": "code",
   "execution_count": 19,
   "id": "54b61a04",
   "metadata": {},
   "outputs": [
    {
     "name": "stdout",
     "output_type": "stream",
     "text": [
      "{'key1': 'anotherValue', 'key2': 'asecondValue', 'key3': 'aThirdValue'}\n"
     ]
    }
   ],
   "source": [
    "d[\"key1\"] = \"anotherValue\"\n",
    "print(d)"
   ]
  },
  {
   "cell_type": "markdown",
   "id": "edbc3536",
   "metadata": {},
   "source": [
    "#### Mehrere Werte an Variablen zuweisen (unpacking)"
   ]
  },
  {
   "cell_type": "markdown",
   "id": "05cea051",
   "metadata": {},
   "source": [
    "Tupel:"
   ]
  },
  {
   "cell_type": "code",
   "execution_count": 23,
   "id": "c7ed8c53",
   "metadata": {},
   "outputs": [
    {
     "name": "stdout",
     "output_type": "stream",
     "text": [
      "first second third\n"
     ]
    }
   ],
   "source": [
    "#(Variable1, Variable2, Variable3) = (Wert1, Wert2, Wert3)\n",
    "person = (\"heinz\", \"müller\", \"basel\")\n",
    "(a, b, c) = t\n",
    "vorname = person[0] \n",
    "name =  person[1]\n",
    "adresse = person[2]\n",
    "(vorname, name, adresse ) = person\n",
    "print(a, b, c)"
   ]
  },
  {
   "cell_type": "markdown",
   "id": "607ab667",
   "metadata": {},
   "source": [
    "Listen:"
   ]
  },
  {
   "cell_type": "code",
   "execution_count": 27,
   "id": "00520cff",
   "metadata": {},
   "outputs": [
    {
     "name": "stdout",
     "output_type": "stream",
     "text": [
      "1st second third\n"
     ]
    }
   ],
   "source": [
    "(first, second, third) = l\n",
    "print(first, second, third)"
   ]
  },
  {
   "cell_type": "markdown",
   "id": "5f31cd01",
   "metadata": {},
   "source": [
    "Dictionaries"
   ]
  },
  {
   "cell_type": "code",
   "execution_count": 36,
   "id": "ff52f475",
   "metadata": {},
   "outputs": [
    {
     "name": "stdout",
     "output_type": "stream",
     "text": [
      "key1 anotherValue key2 asecondValue key3 aThirdValue\n"
     ]
    }
   ],
   "source": [
    "((key1, value1), (key2, value2), (key3, value3)) = d.items()\n",
    "print(key1, value1, key2, value2, key3, value3)\n"
   ]
  },
  {
   "cell_type": "markdown",
   "id": "691b9730",
   "metadata": {},
   "source": [
    "### Elemente hinzufügen"
   ]
  },
  {
   "cell_type": "markdown",
   "id": "bdcb1517",
   "metadata": {},
   "source": [
    "Tupel (nicht möglich)"
   ]
  },
  {
   "cell_type": "code",
   "execution_count": 37,
   "id": "9eaa375f",
   "metadata": {},
   "outputs": [
    {
     "ename": "AttributeError",
     "evalue": "'tuple' object has no attribute 'append'",
     "output_type": "error",
     "traceback": [
      "\u001b[1;31m---------------------------------------------------------------------------\u001b[0m",
      "\u001b[1;31mAttributeError\u001b[0m                            Traceback (most recent call last)",
      "\u001b[1;32m~\\AppData\\Local\\Temp/ipykernel_2076/3621110873.py\u001b[0m in \u001b[0;36m<module>\u001b[1;34m\u001b[0m\n\u001b[0;32m      1\u001b[0m \u001b[1;31m# append Methode ist nicht definiert\u001b[0m\u001b[1;33m\u001b[0m\u001b[1;33m\u001b[0m\u001b[0m\n\u001b[1;32m----> 2\u001b[1;33m \u001b[0mt\u001b[0m\u001b[1;33m.\u001b[0m\u001b[0mappend\u001b[0m\u001b[1;33m(\u001b[0m\u001b[1;34m\"abc\"\u001b[0m\u001b[1;33m)\u001b[0m\u001b[1;33m\u001b[0m\u001b[1;33m\u001b[0m\u001b[0m\n\u001b[0m",
      "\u001b[1;31mAttributeError\u001b[0m: 'tuple' object has no attribute 'append'"
     ]
    }
   ],
   "source": [
    "# append Methode ist nicht definiert\n",
    "t.append(\"abc\")"
   ]
  },
  {
   "cell_type": "markdown",
   "id": "8377df45",
   "metadata": {},
   "source": [
    "Liste"
   ]
  },
  {
   "cell_type": "code",
   "execution_count": 40,
   "id": "a38aba7f",
   "metadata": {},
   "outputs": [
    {
     "name": "stdout",
     "output_type": "stream",
     "text": [
      "['1st', 'second', 'third', 'forth', 'fourth', 'fourth']\n"
     ]
    }
   ],
   "source": [
    "l.append(\"fourth\")\n",
    "print(l)"
   ]
  },
  {
   "cell_type": "markdown",
   "id": "01530c58",
   "metadata": {},
   "source": [
    "Dictionary"
   ]
  },
  {
   "cell_type": "code",
   "execution_count": 43,
   "id": "e6a684b0",
   "metadata": {},
   "outputs": [
    {
     "name": "stdout",
     "output_type": "stream",
     "text": [
      "{'key1': 'anotherValue', 'key2': 'asecondValue', 'key3': 'aThirdValue', 'newKey': 'newValue', 'anotherKey': 'anotherValue'}\n"
     ]
    }
   ],
   "source": [
    "d[\"newKey\"] = \"newValue\"\n",
    "d[\"anotherKey\"] = \"anotherValue\"\n",
    "print(d)"
   ]
  },
  {
   "cell_type": "markdown",
   "id": "50dc68d6",
   "metadata": {},
   "source": [
    "### Iterieren"
   ]
  },
  {
   "cell_type": "markdown",
   "id": "00b36a34",
   "metadata": {},
   "source": [
    "Tupel"
   ]
  },
  {
   "cell_type": "code",
   "execution_count": 48,
   "id": "8d4353fa",
   "metadata": {},
   "outputs": [
    {
     "name": "stdout",
     "output_type": "stream",
     "text": [
      "first\n",
      "second\n",
      "third\n"
     ]
    }
   ],
   "source": [
    "for element in t:\n",
    "    print(element)\n"
   ]
  },
  {
   "cell_type": "markdown",
   "id": "1b329eb0",
   "metadata": {},
   "source": [
    "Liste"
   ]
  },
  {
   "cell_type": "code",
   "execution_count": 49,
   "id": "f8084038",
   "metadata": {},
   "outputs": [
    {
     "name": "stdout",
     "output_type": "stream",
     "text": [
      "1st\n",
      "second\n",
      "third\n",
      "forth\n",
      "fourth\n",
      "fourth\n"
     ]
    }
   ],
   "source": [
    "for element in l:\n",
    "    print(element)"
   ]
  },
  {
   "cell_type": "markdown",
   "id": "a0d3a290",
   "metadata": {},
   "source": [
    "Dictionary"
   ]
  },
  {
   "cell_type": "code",
   "execution_count": 50,
   "id": "421a8e73",
   "metadata": {},
   "outputs": [
    {
     "name": "stdout",
     "output_type": "stream",
     "text": [
      "key1\n",
      "anotherValue\n",
      "key2\n",
      "asecondValue\n",
      "key3\n",
      "aThirdValue\n",
      "newKey\n",
      "newValue\n",
      "anotherKey\n",
      "anotherValue\n"
     ]
    }
   ],
   "source": [
    "for key in d:\n",
    "    print(key)\n",
    "    print(d[key])\n",
    "    "
   ]
  },
  {
   "cell_type": "code",
   "execution_count": 51,
   "id": "a48e8185",
   "metadata": {},
   "outputs": [
    {
     "name": "stdout",
     "output_type": "stream",
     "text": [
      "('key1', 'anotherValue')\n",
      "('key2', 'asecondValue')\n",
      "('key3', 'aThirdValue')\n",
      "('newKey', 'newValue')\n",
      "('anotherKey', 'anotherValue')\n"
     ]
    }
   ],
   "source": [
    "for keyAndValue in d.items():\n",
    "    print(keyAndValue)"
   ]
  },
  {
   "cell_type": "code",
   "execution_count": null,
   "id": "912532e5",
   "metadata": {},
   "outputs": [],
   "source": [
    "for (key, Value) in d.items():\n",
    "    print(keyAndValue)"
   ]
  },
  {
   "cell_type": "markdown",
   "id": "13ec8e4b",
   "metadata": {},
   "source": [
    "## Aufgabe zu Listen, Tupel und Dictionaries"
   ]
  },
  {
   "cell_type": "markdown",
   "id": "e9a8bb72",
   "metadata": {},
   "source": [
    "#### Aufgabe 1\n",
    "\n",
    "Schreiben Sie eine Funktion ```multiple_elements```, welche eine Liste von Ganzzahlen als Argument entgegennimmt. Die Funktion soll eine neue Liste zurückgeben, bei der jedes Element $n$-Mal wiederholt werden, wobei $n$ dem Wert des entsprechenden Elements entspricht.  \n",
    "\n",
    "Beispiel: Der Aufruf ```multiple_elements([2, 3, 0, 1])``` soll die List ```[2, 2, 3, 3, 3, 1]``` zurückgeben. "
   ]
  },
  {
   "cell_type": "code",
   "execution_count": 59,
   "id": "5cdea66b",
   "metadata": {},
   "outputs": [],
   "source": [
    "# Ihre Lösung"
   ]
  },
  {
   "cell_type": "code",
   "execution_count": 1,
   "id": "031b8e52",
   "metadata": {},
   "outputs": [],
   "source": [
    "# Ihre Testfälle"
   ]
  },
  {
   "cell_type": "markdown",
   "id": "16a2c1c7",
   "metadata": {},
   "source": [
    "#### Aufgabe 2 \n",
    "\n",
    "Schreiben Sie eine Funktion ```set_equals``` welche zwei Listen als Argumente entgegennimmt. Die Funktion soll ```True``` zurückgeben, falls jedes Elemente in der ersten Liste auch in der zweiten Liste vorkommt und jedes in der zweiten Liste vorhandene Element auch in der ersten. Ansonsten soll ```False``` zurückgeben werden. \n",
    "\n",
    "Für die zwei Listen ```[1, 3, 3, 4]``` und ```[4, 1, 3, 1, 4]``` würde die Funktion also ```True``` zurückliefern, für die zwei Listen ```[1, 3, 4]``` und ```[1, 4]``` jedoch ```False```. \n"
   ]
  },
  {
   "cell_type": "code",
   "execution_count": 3,
   "id": "0040c541",
   "metadata": {},
   "outputs": [],
   "source": [
    "# Ihre Lösung"
   ]
  },
  {
   "cell_type": "code",
   "execution_count": 4,
   "id": "47f13e46",
   "metadata": {},
   "outputs": [],
   "source": [
    "# Ihre Testfälle"
   ]
  },
  {
   "cell_type": "markdown",
   "id": "6e1aba29",
   "metadata": {},
   "source": [
    "#### Aufgabe 3: Liste von Listen \n",
    "\n",
    "Implementieren Sie eine Funktion ```reshape``` die eine Liste sowie ein Argument $n$ entgegennimmt. Die Funktion soll eine Liste von Listen zurückgeben. Dabei sollen die ersten $n$ Elemente in der ersten Liste sein, die nächsten $n$ in der zweiten, etc. Die letzte Liste darf dabei unvollständig sein. \n",
    "\n",
    "Beispiel:\n",
    "\n",
    "Der Aufruf: ```reshape([1,2,3,4,5], 2)``` soll die Liste ```[[1,2],[3,4], [5]]``` zurückgeben. "
   ]
  },
  {
   "cell_type": "code",
   "execution_count": 6,
   "id": "53dc7fc3",
   "metadata": {},
   "outputs": [],
   "source": [
    "# Ihre Lösung"
   ]
  },
  {
   "cell_type": "code",
   "execution_count": 7,
   "id": "079fa68c",
   "metadata": {},
   "outputs": [],
   "source": [
    "# Ihre Testfälle"
   ]
  },
  {
   "cell_type": "markdown",
   "id": "f4ad13c2",
   "metadata": {},
   "source": [
    "#### Aufgabe 4: Dictionaries \n",
    "\n",
    "Implementieren Sie eine Funktion ```list_to_dictionary``` welche eine Liste von Tupeln entgegennimmt, und ein Dictionary zurückgibt, welches als Schlüssel jeweils das erste Element im Tupel nimmt und als Wert das zweite Element. Falls derselbe Schlüssel mit unterschiedlichem Wert zwei Tupeln vorkommt, soll der Wert jeweils überschrieben werden. \n"
   ]
  },
  {
   "cell_type": "code",
   "execution_count": 9,
   "id": "781542c1",
   "metadata": {},
   "outputs": [],
   "source": [
    "# Ihre Lösung"
   ]
  },
  {
   "cell_type": "code",
   "execution_count": 10,
   "id": "2ee90879",
   "metadata": {},
   "outputs": [],
   "source": [
    "# Ihre Testfälle"
   ]
  },
  {
   "cell_type": "markdown",
   "id": "cecba54b",
   "metadata": {},
   "source": [
    "### Klassen"
   ]
  },
  {
   "cell_type": "markdown",
   "id": "91598113",
   "metadata": {},
   "source": [
    "Klassen lassen uns Daten und darauf anwendbare Methoden definieren."
   ]
  },
  {
   "cell_type": "markdown",
   "id": "3f088337",
   "metadata": {},
   "source": [
    "#### Definition der Klasse"
   ]
  },
  {
   "cell_type": "code",
   "execution_count": 11,
   "id": "d737b5a8",
   "metadata": {},
   "outputs": [],
   "source": [
    "# Ihre Lösung"
   ]
  },
  {
   "cell_type": "code",
   "execution_count": 12,
   "id": "0165d973",
   "metadata": {},
   "outputs": [],
   "source": [
    "# Ihre Testfälle"
   ]
  },
  {
   "cell_type": "markdown",
   "id": "5331dce0",
   "metadata": {},
   "source": [
    "###  Exkurs: List comprehensions  - nicht prüfungsrelevant"
   ]
  },
  {
   "cell_type": "markdown",
   "id": "989c9942",
   "metadata": {},
   "source": [
    "Mengenschreibweise in der Mathematik: \n",
    "$\\{f(x) | x \\in \\{0,\\dots, 10\\}\\}$"
   ]
  },
  {
   "cell_type": "code",
   "execution_count": null,
   "id": "5b777e31",
   "metadata": {},
   "outputs": [],
   "source": [
    "[x * 2 for x in range(0, 10)]"
   ]
  },
  {
   "cell_type": "markdown",
   "id": "f9dc9bde",
   "metadata": {},
   "source": [
    "Mengenschreibweise in der Mathematik: \n",
    "$\\{f(x, y) | x \\in \\{0,\\dots, 10\\}, y \\in \\{0,\\dots, 10\\}\\}$"
   ]
  },
  {
   "cell_type": "code",
   "execution_count": null,
   "id": "608d1be2",
   "metadata": {},
   "outputs": [],
   "source": [
    "[(x, y) for x in range(0, 3) for y in range(0, 4)]"
   ]
  },
  {
   "cell_type": "markdown",
   "id": "a4e170f6",
   "metadata": {},
   "source": [
    "Mengenschreibweise in der Mathematik: \n",
    "$\\{f(x, y) | x \\in \\{0,\\dots, 10\\}, y \\in \\{0,\\dots, 10\\}, x\\cdot y \\mod 4 = 0\\}$"
   ]
  },
  {
   "cell_type": "code",
   "execution_count": null,
   "id": "f66f1606",
   "metadata": {},
   "outputs": [],
   "source": [
    "[(x, y) for x in range(1, 10) for y in range(1, 10) if x * y % 4 == 0]"
   ]
  },
  {
   "cell_type": "code",
   "execution_count": null,
   "id": "9f3e5de0",
   "metadata": {},
   "outputs": [],
   "source": []
  }
 ],
 "metadata": {
  "kernelspec": {
   "display_name": "Python 3 (ipykernel)",
   "language": "python",
   "name": "python3"
  },
  "language_info": {
   "codemirror_mode": {
    "name": "ipython",
    "version": 3
   },
   "file_extension": ".py",
   "mimetype": "text/x-python",
   "name": "python",
   "nbconvert_exporter": "python",
   "pygments_lexer": "ipython3",
   "version": "3.8.16"
  }
 },
 "nbformat": 4,
 "nbformat_minor": 5
}
