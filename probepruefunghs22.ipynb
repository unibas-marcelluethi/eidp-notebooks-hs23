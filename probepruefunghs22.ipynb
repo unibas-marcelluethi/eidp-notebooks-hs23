{
 "cells": [
  {
   "cell_type": "markdown",
   "id": "882cb365",
   "metadata": {},
   "source": [
    "# Prüfung vom 1. Februar 2022. Zeit: 80 Minuten"
   ]
  },
  {
   "cell_type": "markdown",
   "id": "4711f064",
   "metadata": {},
   "source": [
    "*Schreiben Sie in dieses Feld Ihren Vornamen, Namen und Matrikelnummer.*"
   ]
  },
  {
   "cell_type": "markdown",
   "id": "c8835b00",
   "metadata": {},
   "source": [
    "## Theorie"
   ]
  },
  {
   "cell_type": "markdown",
   "id": "865dfba8",
   "metadata": {},
   "source": [
    "### Aufgabe 1: Ausdrücken und Anweisungen (2 Punkte)\n",
    "\n",
    "In Python unterscheiden wir zwischen Ausdrücken und Anweisungen? Welche der folgenden Python Befehle sind Ausdrücke?\n",
    "\n",
    "1. ```5 + 3```\n",
    "2. ```True```\n",
    "3. ```a = 3```\n",
    "4. ```import math```\n",
    "\n",
    "Löschen Sie die Nummern aller Befehle die keine Ausdrücke sind in folgender Zelle."
   ]
  },
  {
   "cell_type": "code",
   "execution_count": 1,
   "id": "509f140b",
   "metadata": {
    "deletable": false,
    "exercise_id": 1
   },
   "outputs": [
    {
     "data": {
      "text/plain": [
       "[1, 2, 3, 4]"
      ]
     },
     "execution_count": 1,
     "metadata": {},
     "output_type": "execute_result"
    }
   ],
   "source": [
    "[1, 2, 3, 4]\n"
   ]
  },
  {
   "cell_type": "markdown",
   "id": "87cd4239",
   "metadata": {},
   "source": [
    "### Aufgabe 2: Werte, Ausdrücke und Typen (2 Punkte)\n",
    "\n",
    "Welche Aussagen zu Ausdrücken und Typen sind richtig?\n",
    "\n",
    "1. Jeder Wert in Python hat immer einen entsprechenden Typ.\n",
    "2. Bei der Initialisierung einer Variable muss der Typ explizit angegeben werden.\n",
    "3. Bei der Initialisierung einer Variable muss der Wert explizit angegeben werden.\n",
    "4. Der Python Befehl ```type``` ist ein Ausdruck. \n",
    "\n",
    "Löschen Sie die Nummern der nicht zutreffenden Antworte(n) in der folgenden Zelle."
   ]
  },
  {
   "cell_type": "code",
   "execution_count": 2,
   "id": "cd885a01",
   "metadata": {
    "deletable": false,
    "exercise_id": 2
   },
   "outputs": [
    {
     "data": {
      "text/plain": [
       "[1, 2, 3, 4]"
      ]
     },
     "execution_count": 2,
     "metadata": {},
     "output_type": "execute_result"
    }
   ],
   "source": [
    "[1, 2, 3, 4]"
   ]
  },
  {
   "cell_type": "code",
   "execution_count": null,
   "id": "1c1a63be",
   "metadata": {},
   "outputs": [],
   "source": []
  },
  {
   "cell_type": "markdown",
   "id": "39c6b8b5",
   "metadata": {},
   "source": [
    "### Aufgabe 3: Vergleiche und Boolsche Ausdrücke (2 Punkte)\n",
    "\n",
    "Welche der folgenden Aussagen sind im Bezug auf den folgenden Code sind wahr?\n",
    "```python\n",
    "if (a < 7 and b > 0) and (a > 2):\n",
    "    print(\"*1*\")\n",
    "elif b == 2 or a == 3: \n",
    "    print(\"*2*\")\n",
    "else:\n",
    "    print(\"*3*\");\n",
    "\n",
    "```\n",
    "1. Das Programm gibt immer `*1*` aus wenn `b` den Wert 7 hat, unabhängig vom Wert von `a`.\n",
    "2. Das Programm gibt nie `*2*` aus.\n",
    "3. Das Programm gibt nie `*3*` aus wenn `a` den Wert 3 hat.\n",
    "4. Wenn `a` kleiner 0 ist und `b` grösser als 0, dann wird nie der letzte `else` Zweig ausgeführt.\n",
    "\n",
    "Löschen Sie die Nummern der nicht zutreffenden Antworte(n) in der folgenden Zelle."
   ]
  },
  {
   "cell_type": "code",
   "execution_count": 17,
   "id": "59ff483c",
   "metadata": {},
   "outputs": [],
   "source": [
    "def f(a, b):\n",
    "    if (a < 7 and b > 0) and (a > 2):\n",
    "        print(\"*1*\")\n",
    "    elif b == 2 or a == 3: \n",
    "        print(\"*2*\")\n",
    "    else:\n",
    "        print(\"*3*\");"
   ]
  },
  {
   "cell_type": "code",
   "execution_count": 3,
   "id": "078f0e9c",
   "metadata": {
    "deletable": false,
    "exercise_id": 3
   },
   "outputs": [
    {
     "data": {
      "text/plain": [
       "[1, 2, 3, 4]"
      ]
     },
     "execution_count": 3,
     "metadata": {},
     "output_type": "execute_result"
    }
   ],
   "source": [
    "[1,2,3,4]"
   ]
  },
  {
   "cell_type": "markdown",
   "id": "0fe6252c",
   "metadata": {},
   "source": [
    "### Aufgabe 4:  Schleifen (2 Punkte)\n",
    "\n",
    "Welche der folgenden Aussagen sind wahr?\n",
    " 1. Innerhalb eines Schleifenrumpfs dürfen weitere Schleifen definiert werden.\n",
    " 2. Eine ```while``` Schleife wird immer mindestens einmal durchlaufen.\n",
    " 3. Wenn die Anzahl Schleifendurchläufe nicht im vornherein bekannt ist, ist es am besten eine ```for``` Schleife zu benutzen.\n",
    " 4. Eine ```for``` Schleife eignet sich gut um über alle Elemente einer Liste zu iterieren.\n",
    " \n",
    "Löschen Sie die Nummern der nicht zutreffenden Behauptungen in der folgenden Zelle."
   ]
  },
  {
   "cell_type": "code",
   "execution_count": 5,
   "id": "3ee7528f",
   "metadata": {
    "deletable": false,
    "exercise_id": 4
   },
   "outputs": [
    {
     "data": {
      "text/plain": [
       "[1, 2, 3, 4]"
      ]
     },
     "execution_count": 5,
     "metadata": {},
     "output_type": "execute_result"
    }
   ],
   "source": [
    "[1,2,3,4]"
   ]
  },
  {
   "cell_type": "markdown",
   "id": "70b1ed5b",
   "metadata": {},
   "source": [
    "### Aufgabe 5:  Prozeduren und Funktionen (2 Punkte)\n",
    "\n",
    "Welche der folgenden Aussagen sind wahr?\n",
    " 1. Eine Prozedur gibt immer einen Wert zurück.\n",
    " 2. Eine Funktion muss immer mindestens ein Argument entgegennehmen.\n",
    " 3. Funktionen dürfen sich selbst aufrufen.\n",
    " 4. Das Schlüsselwort ```return``` wird benutzt um einen Wert aus der Funktion an das aufrufende Programm zurückzugeben. \n",
    " \n",
    "Löschen Sie die Nummern der nicht zutreffenden Behauptungen in der folgenden Zelle."
   ]
  },
  {
   "cell_type": "code",
   "execution_count": 7,
   "id": "228ec6bf",
   "metadata": {
    "deletable": false,
    "exercise_id": 5
   },
   "outputs": [
    {
     "data": {
      "text/plain": [
       "[1, 2, 3, 4]"
      ]
     },
     "execution_count": 7,
     "metadata": {},
     "output_type": "execute_result"
    }
   ],
   "source": [
    "[1,2,3,4]"
   ]
  },
  {
   "cell_type": "markdown",
   "id": "e8a20500",
   "metadata": {},
   "source": [
    "### Aufgabe 6: Klassen (2 Punkte)\n",
    "\n",
    "Welche der folgenden Aussagen zu Klassen sind wahr?\n",
    "\n",
    "1. Klassen werden verwendet um eigene Datentypen zu definieren. \n",
    "2. Von einer Klasse können beliebig viele Instanzen erzeugt werden. \n",
    "3. Ein Attribut einer Klasse kann in verschiedenen Instanzen der Klasse verschiedene Werte annehmen\n",
    "4. Die Methode ```__init__``` wird typischerweise benutzt um die Methoden der Klasse vor deren Nutzung zu initialisieren. \n",
    "\n",
    "Löschen Sie die Nummern der nicht zutreffenden Behauptungen in der folgenden Zelle."
   ]
  },
  {
   "cell_type": "code",
   "execution_count": 8,
   "id": "9d9c2974",
   "metadata": {
    "deletable": false,
    "exercise_id": 6
   },
   "outputs": [
    {
     "data": {
      "text/plain": [
       "[1, 2, 3, 4]"
      ]
     },
     "execution_count": 8,
     "metadata": {},
     "output_type": "execute_result"
    }
   ],
   "source": [
    "[1,2,3,4]"
   ]
  },
  {
   "cell_type": "markdown",
   "id": "9bc88797",
   "metadata": {},
   "source": [
    "## Programmieraufgaben"
   ]
  },
  {
   "cell_type": "markdown",
   "id": "8b01d7cf",
   "metadata": {},
   "source": [
    "### Aufgabe 7: Einfache Berechnungen (2 Punkte)\n",
    "\n",
    "Schreiben Sie eine Funktion ```sum_even```, welche alle geraden Zahlen, die innerhalb eines durch zwei Argumente angegebenen Bereichs liegen, aufsummiert. Dabei gehören die durch die Argumente angegebenen Bereichsgrenzen zum Bereich.\n",
    "\n",
    "Beispiel: Der Aufruf ```sum_even(2, 6)``` sollte die Zahlen 2, 4 und 6 aufsummieren und entsprechend 12 zurückgeben. "
   ]
  },
  {
   "cell_type": "code",
   "execution_count": 11,
   "id": "192144c5",
   "metadata": {
    "deletable": false,
    "exercise_id": 7
   },
   "outputs": [],
   "source": [
    "def sum_even(low, hi):\n",
    "    # Ihe Lösung\n",
    "    pass"
   ]
  },
  {
   "cell_type": "markdown",
   "id": "ac73402a",
   "metadata": {},
   "source": [
    "### Aufgabe 8: Listen (2  Punkte)\n",
    "\n",
    "Schreiben Sie eine Funktion ```subsample_list``` welche eine Liste von ganzen Zahlen übergeben bekommt und eine neue Liste  zurückgibt. Dabei soll die neue Liste jedes zweite Element der ursprünglichen Liste weglassen. \n",
    "\n",
    "Beispiel: Der Aufruf ```subsample_list([1, -2, 3, 4, -5, 6])``` soll die List ```[1, 3, -5]``` zurückgeben. "
   ]
  },
  {
   "cell_type": "code",
   "execution_count": 12,
   "id": "7f2537a1",
   "metadata": {
    "deletable": false,
    "exercise_id": 8
   },
   "outputs": [],
   "source": [
    "def subsample_list(l):\n",
    "    #Ihre Lösung\n",
    "    pass"
   ]
  },
  {
   "cell_type": "markdown",
   "id": "415e9981",
   "metadata": {},
   "source": [
    "### Aufgabe 9:  Differenzen zweier Listen  (4 Punkte)\n",
    "\n",
    "\n",
    "Schreiben Sie eine Funktion ```list_diff``` welche zwei Listen als Argumente entgegennimmt. Es soll dann eine Liste mit den Elementen zurückgegeben werden, welche in einer der beiden Listen vorhanden sind, nicht aber in beiden. \n",
    "\n",
    "Beispiel: Der Aufruf ```list_diff([1, 2, 3], [2, 4, 5])``` soll die Liste ```[1, 3, 4, 5]``` zurückgeben. \n"
   ]
  },
  {
   "cell_type": "code",
   "execution_count": 13,
   "id": "a7a83fa4",
   "metadata": {
    "deletable": false,
    "exercise_id": 9
   },
   "outputs": [],
   "source": [
    "# Ihre Lösung\n",
    "def list_diff(l1, l2):\n",
    "    # Ihre Lösung\n",
    "    pass\n"
   ]
  },
  {
   "cell_type": "markdown",
   "id": "df26dd0f",
   "metadata": {},
   "source": [
    "### Aufgabe 10: Liste von Listen (4 Punkte)\n",
    "\n",
    "Implementieren Sie die Methode ```jagged_list```, welche eine Zahl $n$ entgegennimmt und eine Liste von Listen der Grösse $n$ mit folgender Eigenschaft erstellt:\n",
    "\n",
    "* Das $i$-te innere Liste hat die Grösse $n - i$ und beinhaltet die Zahlen $1, ... n - i$. \n",
    "Für die Eingabe ```jagged_list(3)``` soll also folgende Liste erstellt werden. \n",
    "```python\n",
    "[[1, 2, 3], [1, 2], [1]]\n",
    "```"
   ]
  },
  {
   "cell_type": "code",
   "execution_count": 14,
   "id": "d8f4de62",
   "metadata": {
    "deletable": false,
    "exercise_id": 10
   },
   "outputs": [],
   "source": [
    "def jagged_list(n):\n",
    "    # Ihre Lösung\n",
    "    pass\n"
   ]
  },
  {
   "cell_type": "markdown",
   "id": "d5b2cc2b",
   "metadata": {},
   "source": [
    "### Aufgabe 11: Fehlersuche (2 Punkte)\n",
    "\n",
    "Mit dem Folgenden Code wollte ein Student den berühmten Bubblesort Algorithmus implementieren. Leider sind ihm dabei einige Fehler unterlaufen. Korrigieren Sie den Code. Markieren Sie jede geänderte Stelle mit einem Kommentar, der kurz erklärt was das Problem war. \n",
    "\n",
    "*Hinweis:* Der Algorithmus als solches ist korrekt. Es fehlt dem Student nur an Python Kenntnissen, weshalb die Syntax manchmal falsch ist und auch nicht alle Funktionen richtig geschrieben wurden.   "
   ]
  },
  {
   "cell_type": "code",
   "execution_count": 16,
   "id": "f384da1f",
   "metadata": {
    "deletable": false,
    "exercise_id": 11
   },
   "outputs": [
    {
     "ename": "IndentationError",
     "evalue": "unindent does not match any outer indentation level (<tokenize>, line 12)",
     "output_type": "error",
     "traceback": [
      "\u001b[1;36m  File \u001b[1;32m\"<tokenize>\"\u001b[1;36m, line \u001b[1;32m12\u001b[0m\n\u001b[1;33m    return the_list #Einrückcung\u001b[0m\n\u001b[1;37m    ^\u001b[0m\n\u001b[1;31mIndentationError\u001b[0m\u001b[1;31m:\u001b[0m unindent does not match any outer indentation level\n"
     ]
    }
   ],
   "source": [
    "function bubble_sort(the_list): \n",
    "    \n",
    "    n = length(the_list) \n",
    " \n",
    "    for i in range(0, n-1)\n",
    " \n",
    "        # Last i elements are already in place\n",
    "        for j in range(0, n-i-1)\n",
    " \n",
    "            if the_list(j) > the_list(j + 1) :\n",
    "                the_list(j), the_list(j + 1) = the_list(j + 1), the_list(j)\n",
    "      return the_list #Einrückcung\n",
    "\n",
    "\n"
   ]
  },
  {
   "cell_type": "markdown",
   "id": "fbe7cf7d",
   "metadata": {},
   "source": [
    "### Aufgabe 12: Dictionaries (2 Punkte)\n",
    "\n",
    "Implementieren Sie eine Funktion ```count_character_occurrences``` welche einen Text entgegennimmt, und ein Dictionary zurückgibt. Im Dictionary soll für jeden Buchstaben im Text gespeichert werden, wie oft dieser Buchstabe im Text auftaucht. \n"
   ]
  },
  {
   "cell_type": "code",
   "execution_count": 17,
   "id": "16b2f164",
   "metadata": {
    "deletable": false,
    "exercise_id": 12
   },
   "outputs": [],
   "source": [
    "# Ihre Lösung\n",
    "def count_character_occurrences(text):\n",
    "    # Ihre Lösung\n",
    "    pass\n",
    "\n",
    "count_character_occurrences(\"hallo\")\n"
   ]
  },
  {
   "cell_type": "markdown",
   "id": "9e27d8f8",
   "metadata": {},
   "source": [
    "### Aufgabe 13: Palindrome (4 Punkte)\n",
    "\n",
    "\n",
    "Implementieren Sie die Funktion ```is_palindrom```, welches einen Text entgegennimmt und prüft ob dieser ein Palindrom ist. Ein Palindrom ist ein Text, welcher vorwärts und rückwärts gelesen gleich ist. Wenn es sich um ein Palindrom handelt soll `True` und ansonsten `False`zurückgegeben werden. Beim Vergleich sollen Satzzeichen ```,.!;``` sowie Leerzeichen ignoriert werden. Sie dürfen annehmen, dass der Text nur aus Kleinbuchstaben besteht, so dass Gross- und Kleinschreibung ignorieren können. \n",
    "\n",
    "Beispiele von Palindromen:\n",
    "\n",
    "* hannah\n",
    "* otto\n",
    "* reliefpfeiler\n",
    "* eine horde bedrohe nie!\n",
    "* o genie, der herr ehre dein ego!\n",
    "\n",
    "Nutzen Sie die Funktion ```list(\"text\")``` um einen Text in eine Liste von Buchstaben zu konvertieren."
   ]
  },
  {
   "cell_type": "code",
   "execution_count": 18,
   "id": "d7147e86",
   "metadata": {
    "deletable": false,
    "exercise_id": 13
   },
   "outputs": [],
   "source": [
    "def is_palindrom(text):\n",
    "    #Ihre Lösung\n",
    "    pass"
   ]
  },
  {
   "cell_type": "markdown",
   "id": "7602c5a9",
   "metadata": {},
   "source": [
    "### Aufgabe 14: Klassen (8 Punkte)\n",
    "\n",
    "\n",
    "In dieser Aufgabe programmieren Sie eine Klasse ```Interval```, welche Intervalle ganzer Zahlen repräsentieren kann. Das Intervall [a, b] enthält alle ganzen Zahlen x mit a <= x <= b, falls a <= b. Die beiden Grenzen a und b zählen also mit zum Intervall. Das Intervall [a, a] enthält nur die Zahl a.\n",
    "\n",
    "Beispiele: \n",
    "- [3, 7]              enthält die Zahlen 3, 4, 5, 6, 7\n",
    "- [2, 3]              enthält die Zahlen 2, 3\n",
    "- [4, 4]              enthält nur die Zahl 4\n",
    "\n",
    "Definieren Sie in der Klasse Interval die nötigen Felder und eine entsprechende ```__init__``` Funktion, so dass Instanzen der Klasse mit dem Aufruf \n",
    "```\n",
    "Interval(a, b),\n",
    "```\n",
    "erstellt werden können. Dabei bezeichneen $a$ und $b$ die entsprechenden Intervalgrenzen. Das kleinere der beiden Argumente soll als untere Grenze verwendet werden. \n",
    "\n",
    "Implementieren Sie folgende Methoden:\n",
    "\n",
    "* Eine Methode ```as_list```, welche die im Interval repräsentierten Zahlen als Liste zurückgibt. \n",
    "* Eine Methode ``` join```.  Diese Methode nimmt ein zweites Interval als Argument entgegen und gibt ein neues Interval zurück. Das zurückgegebene Interval soll das kleinste Interval sein, welches beide Intervalle enthält.\n",
    "* Eine Methode ```__eq__``` welches zwei Intervalle auf Gleichheit überprüft.\n"
   ]
  },
  {
   "cell_type": "code",
   "execution_count": 19,
   "id": "f845a403",
   "metadata": {
    "deletable": false,
    "exercise_id": 14
   },
   "outputs": [],
   "source": [
    "# Ihre Lösung    "
   ]
  }
 ],
 "metadata": {
  "celltoolbar": "Edit Metadata",
  "exercise_series": "eidp",
  "kernelspec": {
   "display_name": "Python 3 (ipykernel)",
   "language": "python",
   "name": "python3"
  },
  "language_info": {
   "codemirror_mode": {
    "name": "ipython",
    "version": 3
   },
   "file_extension": ".py",
   "mimetype": "text/x-python",
   "name": "python",
   "nbconvert_exporter": "python",
   "pygments_lexer": "ipython3",
   "version": "3.9.7"
  },
  "notebook_id": 2201,
  "toc": {
   "base_numbering": 1,
   "nav_menu": {},
   "number_sections": false,
   "sideBar": false,
   "skip_h1_title": false,
   "title_cell": "Table of Contents",
   "title_sidebar": "Contents",
   "toc_cell": false,
   "toc_position": {},
   "toc_section_display": false,
   "toc_window_display": false
  }
 },
 "nbformat": 4,
 "nbformat_minor": 5
}
