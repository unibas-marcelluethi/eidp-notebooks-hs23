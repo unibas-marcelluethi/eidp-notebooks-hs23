{
 "cells": [
  {
   "cell_type": "markdown",
   "id": "882cb365",
   "metadata": {},
   "source": [
    "# Übungsblatt 12 (Probeprüfung HS21)"
   ]
  },
  {
   "cell_type": "markdown",
   "id": "4711f064",
   "metadata": {},
   "source": [
    "*Schreiben Sie in dieses Feld Ihren Vornamen, Namen und Matrikelnummer.*"
   ]
  },
  {
   "cell_type": "markdown",
   "id": "c8835b00",
   "metadata": {},
   "source": [
    "## Theorie"
   ]
  },
  {
   "cell_type": "markdown",
   "id": "865dfba8",
   "metadata": {},
   "source": [
    "### Aufgabe 1: Fehlerbehandlung (2 Punkte)\n",
    "\n",
    "Welche der folgenden Aussgen sind richtig?\n",
    "\n",
    "1. Exceptions dienen zur Fehlerbehandlung\n",
    "2. Alle auftretenden Fehler in einem try-except Block werden einfach ignoriert\n",
    "3. Die finally Klausel wird nur dann ausgeführt, wenn keine Fehler auftreten\n",
    "4. Eine Exception ist eine Instanz einer Klasse\n",
    "\n",
    "Löschen Sie die Nummern der nicht zutreffenden Behauptungen in der folgenden Zelle:"
   ]
  },
  {
   "cell_type": "code",
   "execution_count": 1,
   "id": "8037f0d7",
   "metadata": {
    "deletable": false,
    "exercise_id": 1
   },
   "outputs": [
    {
     "data": {
      "text/plain": [
       "(1, 2, 3, 4)"
      ]
     },
     "execution_count": 1,
     "metadata": {},
     "output_type": "execute_result"
    }
   ],
   "source": [
    "1,2,3,4"
   ]
  },
  {
   "cell_type": "markdown",
   "id": "87cd4239",
   "metadata": {},
   "source": [
    "### Aufgabe 2: Dateien lesen (2 Punkte)\n",
    "\n",
    "Welche der folgenden Aussgen sind richtig?\n",
    "\n",
    "1. In Python werden Dateien mit dem Befehl ```print``` geschrieben.\n",
    "2. Das ```with``` Statment erlaubt uns Dateien zu lesen ohne diese zu öffnen\n",
    "3. Jede Datei die geöffnet wird sollte auch wieder geschlossen werden \n",
    "4. Beim öffnen einer Datei kann ein Fehler auftreten. \n",
    "\n",
    "Löschen Sie die Nummern der nicht zutreffenden Behauptungen in der folgenden Zelle:"
   ]
  },
  {
   "cell_type": "code",
   "execution_count": 2,
   "id": "6f7a9c9b",
   "metadata": {
    "deletable": false,
    "exercise_id": 2
   },
   "outputs": [
    {
     "data": {
      "text/plain": [
       "(1, 2, 3, 4)"
      ]
     },
     "execution_count": 2,
     "metadata": {},
     "output_type": "execute_result"
    }
   ],
   "source": [
    "1,2,3,4"
   ]
  },
  {
   "cell_type": "markdown",
   "id": "9bc88797",
   "metadata": {},
   "source": [
    "## Programmieraufgaben"
   ]
  },
  {
   "cell_type": "markdown",
   "id": "8b01d7cf",
   "metadata": {},
   "source": [
    "### Aufgabe 3: Funktionen (2 Punkte)\n",
    "\n",
    "Definieren Sie eine Funktion mit dem Namen ```is_square``` welche eine ganze Zahl entgegennimmt und den Wert ```True``` zurückgibt falls es sich bei der Zahl um eine Quadratzahl handelt. Ansonsten soll ```False``` zurückgegeben werden. "
   ]
  },
  {
   "cell_type": "code",
   "execution_count": 2,
   "id": "192144c5",
   "metadata": {
    "deletable": false,
    "exercise_id": 3
   },
   "outputs": [],
   "source": [
    "# Ihe Lösung"
   ]
  },
  {
   "cell_type": "markdown",
   "id": "ac73402a",
   "metadata": {},
   "source": [
    "### Aufgabe 4: Boolsche Ausdrücke (2 Punkte)"
   ]
  },
  {
   "cell_type": "markdown",
   "id": "9e7a7f5e",
   "metadata": {},
   "source": [
    "Schreiben Sie eine Funktion mit dem Namen ```is_in_grey_box``` welche eine x und y Koordinate entgegennimmt und ```True``` zurückgibt, wenn der Punkt $(x, y)$ in der im folgenden Bild gezeigten grauen Region liegt. Ansonsten soll ```False``` zurückgegeben werden. \n",
    "\n",
    "<img src=\"./images/grey-box.png\" width=400/>"
   ]
  },
  {
   "cell_type": "code",
   "execution_count": 1,
   "id": "7f2537a1",
   "metadata": {
    "deletable": false,
    "exercise_id": 4
   },
   "outputs": [],
   "source": [
    "# Ihre Lösung"
   ]
  },
  {
   "cell_type": "markdown",
   "id": "415e9981",
   "metadata": {},
   "source": [
    "### Aufgabe 5: Listen (3 Punkte)\n",
    "\n",
    "Schreiben Sie eine Funktion mit dem Namen ```partial_sums```. Diese soll eine Liste mit Zahlen als Argument entgegennehmen und eine neue Liste zurückgeben. In der neuen Liste stehen jeweils die Teilsummen, d.h. im $i$-ten Element der Liste steht die Summe der Elemente an den Positionen $0$ - $i$. \n",
    "Zum Beispiel würde der Aufruf ```partial_sums([1,2,3,4])``` die Liste ```[1, 3, 6, 10]``` zurückgeben. "
   ]
  },
  {
   "cell_type": "code",
   "execution_count": 3,
   "id": "a7a83fa4",
   "metadata": {
    "deletable": false,
    "exercise_id": 5
   },
   "outputs": [],
   "source": [
    "# Ihre Lösung"
   ]
  },
  {
   "cell_type": "markdown",
   "id": "7602c5a9",
   "metadata": {},
   "source": [
    "### Aufgabe 6: Klassen (6 Punkte)\n",
    "\n",
    "Definieren Sie eine Klasse ```ShoppingCart``` sowie eine Klasse ```Article```. Die Klasse ```Article``` soll zwei Attribute aufweisen: ```name```, und ```price```. Sie sollen einen neuen Artikel mit folgendem Aufruf erzeugen können: ```Article(\"cheese\", 1.70)```. \n",
    "\n",
    "Die Klasse ```ShoppingCart``` soll eine Methode ```add_article``` und eine Methode ```total_price``` aufweisen. Die Methode ```add_article``` fügt einen neuen Artikel hinzu. Die Methode ```total_price``` gibt den Preis aller in der Klasse gespeicherten Artikel zurück. \n"
   ]
  },
  {
   "cell_type": "code",
   "execution_count": 2,
   "id": "f845a403",
   "metadata": {
    "deletable": false,
    "exercise_id": 6
   },
   "outputs": [],
   "source": [
    "# Ihre Lösung"
   ]
  }
 ],
 "metadata": {
  "celltoolbar": "Edit Metadata",
  "exercise_series": "eidp",
  "kernelspec": {
   "display_name": "Python 3 (ipykernel)",
   "language": "python",
   "name": "python3"
  },
  "language_info": {
   "codemirror_mode": {
    "name": "ipython",
    "version": 3
   },
   "file_extension": ".py",
   "mimetype": "text/x-python",
   "name": "python",
   "nbconvert_exporter": "python",
   "pygments_lexer": "ipython3",
   "version": "3.9.7"
  },
  "notebook_id": 12,
  "toc": {
   "base_numbering": 1,
   "nav_menu": {},
   "number_sections": false,
   "sideBar": false,
   "skip_h1_title": false,
   "title_cell": "Table of Contents",
   "title_sidebar": "Contents",
   "toc_cell": false,
   "toc_position": {},
   "toc_section_display": false,
   "toc_window_display": false
  }
 },
 "nbformat": 4,
 "nbformat_minor": 5
}
